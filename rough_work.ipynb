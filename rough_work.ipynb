{
  "nbformat": 4,
  "nbformat_minor": 0,
  "metadata": {
    "colab": {
      "name": "rough_work.ipynb",
      "provenance": [],
      "collapsed_sections": [],
      "authorship_tag": "ABX9TyPIANB3TcSgDUmfktPoF5Vk",
      "include_colab_link": true
    },
    "kernelspec": {
      "name": "python3",
      "display_name": "Python 3"
    }
  },
  "cells": [
    {
      "cell_type": "markdown",
      "metadata": {
        "id": "view-in-github",
        "colab_type": "text"
      },
      "source": [
        "<a href=\"https://colab.research.google.com/github/shravan002/Top-up-Strategy/blob/master/rough_work.ipynb\" target=\"_parent\"><img src=\"https://colab.research.google.com/assets/colab-badge.svg\" alt=\"Open In Colab\"/></a>"
      ]
    },
    {
      "cell_type": "code",
      "metadata": {
        "id": "t1PyAYcFavWg"
      },
      "source": [
        "from pydrive.auth import GoogleAuth\n",
        "from pydrive.drive import GoogleDrive\n",
        "from google.colab import auth\n",
        "from oauth2client.client import GoogleCredentials\n"
      ],
      "execution_count": null,
      "outputs": []
    },
    {
      "cell_type": "code",
      "metadata": {
        "id": "sCYj6LALbUCI"
      },
      "source": [
        "auth.authenticate_user()\n",
        "gauth = GoogleAuth()\n",
        "gauth.credentials = GoogleCredentials.get_application_default()\n",
        "drive = GoogleDrive(gauth)"
      ],
      "execution_count": null,
      "outputs": []
    },
    {
      "cell_type": "code",
      "metadata": {
        "id": "RHPnXH_-bOPZ"
      },
      "source": [
        "downloaded = drive.CreateFile({'id': '14cjpDwnqTpKRTFJO9o8odOg-k0ckqps7'})\n",
        "print('Downloaded content \"{}\"'.format(downloaded.GetContentString()))"
      ],
      "execution_count": null,
      "outputs": []
    },
    {
      "cell_type": "code",
      "metadata": {
        "id": "nILsMXZWba3R"
      },
      "source": [
        "#extract from zip file\n",
        "import zipfile\n",
        "import io\n",
        "zf = zipfile.ZipFile(io.BytesIO(uploaded['lending-club-loan-data.zip']), \"r\")\n",
        "zf.extractall()"
      ],
      "execution_count": null,
      "outputs": []
    },
    {
      "cell_type": "code",
      "metadata": {
        "id": "yhQ_IO6uRmHo"
      },
      "source": [
        "#Copy dataset in excel sheet\n",
        "\n",
        "wb = op.load_workbook('pandas_openpyxl.xlsx')\n",
        "ws = wb.get_sheet_by_name('Sheet2')\n",
        "for r in dataframe_to_rows(df):\n",
        "      ws.append(r)"
      ],
      "execution_count": null,
      "outputs": []
    },
    {
      "cell_type": "code",
      "metadata": {
        "id": "_0t4Q5vXU7uk"
      },
      "source": [
        "pd.set_option('display.max_rows', 500)"
      ],
      "execution_count": null,
      "outputs": []
    },
    {
      "cell_type": "code",
      "metadata": {
        "id": "PMhemhPHGdCA"
      },
      "source": [
        "A, A_count = np.unique(df['bad_acc'], return_counts=True)\n",
        "print('A : ', A)\n",
        "print('A_count : ', A_count)"
      ],
      "execution_count": null,
      "outputs": []
    },
    {
      "cell_type": "code",
      "metadata": {
        "id": "K5z5-BF3nex0"
      },
      "source": [
        "values, count = np.unique(df['issue_y_band1'], return_counts=True)\n",
        "\n",
        "dfTemp = pd.DataFrame()\n",
        "dfTemp['Values'] = values\n",
        "dfTemp['Count'] = count\n",
        "dfTemp.head(50)"
      ],
      "execution_count": null,
      "outputs": []
    },
    {
      "cell_type": "code",
      "metadata": {
        "id": "FeROzOGtyX2g"
      },
      "source": [
        "#Selecting multiple rows\n",
        "import pandas as pd \n",
        "  \n",
        "# making data frame from csv file \n",
        "data = pd.read_csv(\"nba.csv\", index_col =\"Name\") \n",
        "  \n",
        "# retrieving multiple rows by loc method \n",
        "first = data.loc[[\"Avery Bradley\", \"R.J. Hunter\"]] \n",
        "print(first)"
      ],
      "execution_count": null,
      "outputs": []
    },
    {
      "cell_type": "code",
      "metadata": {
        "id": "SqhIl593Lkg9"
      },
      "source": [
        "# making data frame from csv file \n",
        "data1 = pd.read_csv(\"loan.csv\", index_col =\"loan_status\") \n",
        "  \n",
        "# retrieving multiple rows by loc method \n",
        "df1 = data1.loc[[\"Current\"]] \n"
      ],
      "execution_count": null,
      "outputs": []
    },
    {
      "cell_type": "code",
      "metadata": {
        "id": "SXvsklr4cAOg"
      },
      "source": [
        "dft = df[(df.term == ' 60 months') & (df.issue_y == '2014')]"
      ],
      "execution_count": null,
      "outputs": []
    },
    {
      "cell_type": "code",
      "metadata": {
        "id": "iNIrTsFgcLOq"
      },
      "source": [
        "i = 1\n",
        "for col in df1.columns:\n",
        "  print(i,\":\", col)\n",
        "  i =i+1"
      ],
      "execution_count": null,
      "outputs": []
    },
    {
      "cell_type": "code",
      "metadata": {
        "id": "IR_7wOQGw-PA"
      },
      "source": [
        "x = []\n",
        "x = np.percentile(df.int_rate, [0, 25, 50, 75, 100])\n",
        "\n",
        "#Generate Bands according to Total income\n",
        "inc_bands = [x[0], x[1], x[2], x[3], x[4]]\n",
        "inc_bands_name =[1, 2, 3, 4]\n",
        "df['inc_bandX'] = pd.cut(df['int_rate'], inc_bands, labels = inc_bands_name)"
      ],
      "execution_count": null,
      "outputs": []
    },
    {
      "cell_type": "code",
      "metadata": {
        "id": "hjfOUCM1W_A_"
      },
      "source": [
        "#Delete a column\n",
        "del df['band']\n",
        "df = df.drop(['inc_band2'], axis=1)"
      ],
      "execution_count": null,
      "outputs": []
    },
    {
      "cell_type": "code",
      "metadata": {
        "id": "fHasDTqErsks"
      },
      "source": [
        "outliers = []\n",
        "def detect_outliers(dataX):\n",
        "\n",
        "  threshold = 3\n",
        "  mean = np.mean(dataX)\n",
        "  std = np.std(dataX)\n",
        "\n",
        "  for i in dataX:\n",
        "    z_score = (i - mean)/std\n",
        "    if np.abs(z_score) > threshold:\n",
        "      outliers.append(i)\n",
        "  outliers.sort()\n",
        "  print(outliers)\n",
        "\n",
        "detect_outliers(df['total_inc'])"
      ],
      "execution_count": null,
      "outputs": []
    },
    {
      "cell_type": "code",
      "metadata": {
        "id": "Sm-j08G6ryGJ"
      },
      "source": [
        "dft = df[(df.term == ' 60 months') & (df.issue_y == '2014')]\n",
        "dft.head() \n",
        "\n",
        "# print(\"Median: \", df['total_inc'].median())\n",
        "# print(\"Mean:   \", df['total_inc'].mean())\n",
        "# print(\"Max:    \", df['total_inc'].max())\n",
        "# print(\"Min:    \", df['total_inc'].min())\n",
        "# df['total_inc'].quantile([.25, .50, .75])\n",
        "\n",
        "df['total_inc'].describe()"
      ],
      "execution_count": null,
      "outputs": []
    },
    {
      "cell_type": "code",
      "metadata": {
        "id": "gz_oU6MWr2Y0"
      },
      "source": [
        "data.info()"
      ],
      "execution_count": null,
      "outputs": []
    },
    {
      "cell_type": "code",
      "metadata": {
        "id": "GiSzAST8Ng6T",
        "colab": {
          "base_uri": "https://localhost:8080/",
          "height": 127
        },
        "outputId": "340fb8bb-a98f-4190-bb22-d8a258c1c79e"
      },
      "source": [
        "#pip install pandas-profiling\n",
        "from pandas_profiling import ProfileReport"
      ],
      "execution_count": null,
      "outputs": [
        {
          "output_type": "stream",
          "text": [
            "/usr/local/lib/python3.6/dist-packages/matplotlib/__init__.py:1350: UserWarning:  This call to matplotlib.use() has no effect\n",
            "because the backend has already been chosen;\n",
            "matplotlib.use() must be called *before* pylab, matplotlib.pyplot,\n",
            "or matplotlib.backends is imported for the first time.\n",
            "\n",
            "  warnings.warn(_use_error_msg)\n"
          ],
          "name": "stderr"
        }
      ]
    },
    {
      "cell_type": "code",
      "metadata": {
        "id": "mVff9ne7R-pt"
      },
      "source": [
        "profile = ProfileReport(dfp, minimal=True)\n",
        "profile.to_file(output_file=\"output.html\")"
      ],
      "execution_count": null,
      "outputs": []
    },
    {
      "cell_type": "code",
      "metadata": {
        "id": "-94MRj6xMUGi"
      },
      "source": [
        "profile = ProfileReport(dfp, title='Loans_strategy', html = {'style' : {'full_width': True}})"
      ],
      "execution_count": null,
      "outputs": []
    },
    {
      "cell_type": "code",
      "metadata": {
        "id": "8LDfpVPvp0Tu"
      },
      "source": [
        "\n",
        "#Removing unnecessary space before term string\n",
        "df['term'] = df['term'].replace(' 36 months', 36)\n",
        "df['term'] = df['term'].replace(' 60 months', 60)\n",
        "\n",
        "#Converting issue date to string\n",
        "df[\"issue_d\"]= df[\"issue_d\"].astype(str)\n",
        "\n",
        "#Finding issue Year\n",
        "df[\"issue_y\"]= df[\"issue_d\"].str.slice(4, 8, 1)\n",
        "df[\"issue_y\"] = df[\"issue_y\"].astype(float)\n",
        "\n",
        "#Finding issue Month\n",
        "df[\"issue_m\"] = df[\"issue_d\"].str.slice(0, 3, 1)\n",
        "df['issue_m'].replace(to_replace = ['Jan', 'Feb', 'Mar', 'Apr', 'May', 'Jun', 'Jul', 'Aug', 'Sep', 'Oct', 'Nov', 'Dec'],\n",
        "                           value = [1, 2, 3, 4, 5, 6, 7, 8, 9, 10, 11, 12],\n",
        "                         inplace = True)\n",
        "\n",
        "#Selecting last five year data\n",
        "indexNames = df[(df['issue_y'] == 2007) | (df['issue_y'] == 2008)| (df['issue_y'] == 2009)| (df['issue_y'] == 2010)| (df['issue_y'] == 2011)| (df['issue_y'] == 2012)].index\n",
        "df.drop(indexNames , inplace=True)\n",
        "\n",
        "#Finding Total number of rows \n",
        "total_rows_prev = total_rows\n",
        "total_rows = len(df.axes[0])\n",
        "print('Eliminated Acc before 2013:', total_rows_prev - total_rows, total_rows)\n",
        "\n",
        "#Eliminating Acc Issue Year is 2013 or 2014 of 36 months term \n",
        "indexNames = df[(df['term'] == 36 ) & ((df['issue_y'] == 2013) | (df['issue_y'] ==  2014))].index\n",
        "df.drop(indexNames , inplace=True)\n",
        "\n",
        "#Finding Total number of rows \n",
        "total_rows_prev = total_rows\n",
        "total_rows = len(df.axes[0])\n",
        "print('Issue_y 2013 or 2014 of 36 m:', total_rows_prev - total_rows, total_rows)"
      ],
      "execution_count": null,
      "outputs": []
    },
    {
      "cell_type": "code",
      "metadata": {
        "id": "ETeV9DGtkjJQ"
      },
      "source": [
        "\n",
        "#Calculating Term left\n",
        "df['term_left'] = df['term'] - (((2019 - df['issue_y']) * 12) - df['issue_m'])\n",
        "\n",
        "#Calculate percentage of Pay down\n",
        "df['%pay_down'] = df['total_pymnt'] / df['loan_amnt'] * 100\n",
        "\n",
        "#Generate Band according Percentage of Pay down\n",
        "pay_down_bands = [0, 20, 40, 60, 80, 100]\n",
        "pay_down_bands_name =[1, 2, 3, 4, 5]\n",
        "df['%pay_down_band'] = pd.cut(df['%pay_down'], pay_down_bands, labels = pay_down_bands_name)\n",
        "\n",
        "#Generate Bands according to Term Left\n",
        "term_left_band = [0, 10, 20, 30, 40, 55]\n",
        "term_left_bands_name = [1, 2, 3, 4, 5]\n",
        "df['term_left_band'] = pd.cut(df['term_left'], term_left_band, labels = term_left_bands_name)"
      ],
      "execution_count": null,
      "outputs": []
    },
    {
      "cell_type": "code",
      "metadata": {
        "id": "CnCZunleviQs"
      },
      "source": [
        "df1['Bad_rate'] = df1['Charged Off1'] / total_rows * 100\n",
        "df1['Deli_rate_exc_grc_prd'] = df1['Deli_exc_grc_prd'] / total_rows *100\n",
        "df1['Deli_rate_inc_grc_prd'] = df1['Deli_inc_grc_prd'] / total_rows *100"
      ],
      "execution_count": null,
      "outputs": []
    }
  ]
}