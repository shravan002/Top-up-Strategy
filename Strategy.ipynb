{
  "nbformat": 4,
  "nbformat_minor": 0,
  "metadata": {
    "colab": {
      "name": "Strategy.ipynb",
      "provenance": [],
      "collapsed_sections": [],
      "mount_file_id": "1JnS2NiRJqeSJuLXnHl2ZONGycDJc0PIY",
      "authorship_tag": "ABX9TyOqOkaSjNX+U8hHXrv7+yAZ",
      "include_colab_link": true
    },
    "kernelspec": {
      "name": "python3",
      "display_name": "Python 3"
    }
  },
  "cells": [
    {
      "cell_type": "markdown",
      "metadata": {
        "id": "view-in-github",
        "colab_type": "text"
      },
      "source": [
        "<a href=\"https://colab.research.google.com/github/shravan002/Top-up-Strategy/blob/master/Strategy.ipynb\" target=\"_parent\"><img src=\"https://colab.research.google.com/assets/colab-badge.svg\" alt=\"Open In Colab\"/></a>"
      ]
    },
    {
      "cell_type": "code",
      "metadata": {
        "id": "-KYiKkDhate7"
      },
      "source": [
        "#import libraries\n",
        "import pandas as pd\n",
        "import numpy as np\n",
        "import openpyxl as op\n",
        "from google.colab import files\n",
        "from openpyxl.utils.dataframe import dataframe_to_rows"
      ],
      "execution_count": null,
      "outputs": []
    },
    {
      "cell_type": "code",
      "metadata": {
        "id": "iDPF_CHVPxBN",
        "colab": {
          "resources": {
            "http://localhost:8080/nbextensions/google.colab/files.js": {
              "data": "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",
              "ok": true,
              "headers": [
                [
                  "content-type",
                  "application/javascript"
                ]
              ],
              "status": 200,
              "status_text": "OK"
            }
          },
          "base_uri": "https://localhost:8080/",
          "height": 75
        },
        "outputId": "beb6548f-693a-4eca-a831-751d7e88b3b6"
      },
      "source": [
        "#create upload link\n",
        "uploaded = files.upload()"
      ],
      "execution_count": null,
      "outputs": [
        {
          "output_type": "display_data",
          "data": {
            "text/html": [
              "\n",
              "     <input type=\"file\" id=\"files-1ec9fa4b-cd4d-4d9b-b13f-5a4d01674bdb\" name=\"files[]\" multiple disabled\n",
              "        style=\"border:none\" />\n",
              "     <output id=\"result-1ec9fa4b-cd4d-4d9b-b13f-5a4d01674bdb\">\n",
              "      Upload widget is only available when the cell has been executed in the\n",
              "      current browser session. Please rerun this cell to enable.\n",
              "      </output>\n",
              "      <script src=\"/nbextensions/google.colab/files.js\"></script> "
            ],
            "text/plain": [
              "<IPython.core.display.HTML object>"
            ]
          },
          "metadata": {
            "tags": []
          }
        },
        {
          "output_type": "stream",
          "text": [
            "Saving kaggle.json to kaggle.json\n"
          ],
          "name": "stdout"
        }
      ]
    },
    {
      "cell_type": "code",
      "metadata": {
        "id": "Od5yLCk_bAfD",
        "colab": {
          "base_uri": "https://localhost:8080/",
          "height": 166
        },
        "outputId": "67b9ffbc-c351-4345-dea6-283b7f2870c4"
      },
      "source": [
        "#copy json file in a directory\n",
        "!mkdir -p ~/.kaggle\n",
        "!cp kaggle.json ~/.kaggle/\n",
        "\n",
        "#permission to access kaggle data\n",
        "!chmod 600 ~/.kaggle/kaggle.json\n",
        "\n",
        "#Download kaggle data\n",
        "!kaggle datasets download -d wendykan/lending-club-loan-data\n",
        "\n",
        "#Unzip kaggle data\n",
        "from zipfile import ZipFile\n",
        "file_name = \"lending-club-loan-data.zip\"\n",
        "\n",
        "with ZipFile(file_name, 'r') as zip:\n",
        "  zip.extractall()\n",
        "  print('Unzip Done')\n",
        "\n",
        "#Craete DataFrame with all data\n",
        "data = pd.read_csv('loan.csv')\n",
        "total_rows_Data=len(data.axes[0])\n",
        "print('Total Rows in Data:', total_rows_Data)"
      ],
      "execution_count": null,
      "outputs": [
        {
          "output_type": "stream",
          "text": [
            "Downloading lending-club-loan-data.zip to /content\n",
            " 99% 711M/720M [00:26<00:00, 34.3MB/s]\n",
            "100% 720M/720M [00:27<00:00, 27.9MB/s]\n",
            "Unzip Done\n"
          ],
          "name": "stdout"
        },
        {
          "output_type": "stream",
          "text": [
            "/usr/local/lib/python3.6/dist-packages/IPython/core/interactiveshell.py:2718: DtypeWarning: Columns (19,47,55,112,123,124,125,128,129,130,133,139,140,141) have mixed types.Specify dtype option on import or set low_memory=False.\n",
            "  interactivity=interactivity, compiler=compiler, result=result)\n"
          ],
          "name": "stderr"
        },
        {
          "output_type": "stream",
          "text": [
            "Total Rows in Data: 2260668\n"
          ],
          "name": "stdout"
        }
      ]
    },
    {
      "cell_type": "code",
      "metadata": {
        "id": "bxuNgR2YwVmT",
        "colab": {
          "base_uri": "https://localhost:8080/",
          "height": 263
        },
        "outputId": "e8c76d0d-35b4-42ad-a8fc-e5f4e3c963d0"
      },
      "source": [
        "#Create Working Dataframe\n",
        "df = data.loc[:, ['annual_inc', 'loan_amnt', 'annual_inc_joint', 'issue_d', 'out_prncp', 'grade', 'loan_status', 'dti', 'dti_joint', 'acc_now_delinq', 'inq_last_12m', 'inq_fi', 'hardship_flag', 'collections_12_mths_ex_med']]\n",
        "total_rows = len(df.axes[0])\n",
        "print('Total Rows in DataFrame',total_rows)\n",
        "\n",
        "#Replacing NaN value with 0\n",
        "df['annual_inc'] = df['annual_inc'].replace(np.nan, 1)\n",
        "df['annual_inc'] = df['annual_inc'].replace(0, 1)\n",
        "df['annual_inc_joint'] = df['annual_inc_joint'].replace(np.nan, 0)\n",
        "df['dti'] = df['dti'].replace(np.nan, 400000000)\n",
        "df['dti_joint'] = df['dti_joint'].replace(np.nan, 0)\n",
        "df['acc_now_delinq'] = df['acc_now_delinq'].replace(np.nan, 0)\n",
        "df['inq_last_12m'] = df['inq_last_12m'].replace(np.nan, 1000)\n",
        "df['inq_fi'] = df['inq_fi'].replace(np.nan, 1000)\n",
        "df['collections_12_mths_ex_med'] = df['collections_12_mths_ex_med'].replace(np.nan, 0)\n",
        "\n",
        "#Finding Total number of rows after data cleaning\n",
        "total_rows = len(df.axes[0])\n",
        "print('Total Rows in DataFrame',total_rows)\n",
        "\n",
        "#Calculate Total income, dti and inq\n",
        "sumColumn = df['annual_inc'] + df['annual_inc_joint']\n",
        "df['total_inc'] = sumColumn\n",
        "\n",
        "#Rounded real values to the nearest whole dollar\n",
        "#df[\"total_inc\"] = df[\"total_inc\"].astype(int)\n",
        "\n",
        "df['debt'] = df['dti'] * df['annual_inc']\n",
        "df['debt_joint'] = df['dti_joint'] * df['annual_inc_joint']\n",
        "\n",
        "df['total_dti'] = (df['debt'] + df['debt_joint']) / (df['annual_inc'] + df['annual_inc_joint'])\n",
        "\n",
        "sumColumn2 = df['inq_last_12m'] + df['inq_fi']\n",
        "df['total_inq'] = sumColumn2\n",
        "\n",
        "#Generate Bands according to total_dti\n",
        "dti_band = [-2, 10, 15, 20, 25, 100, 65000]\n",
        "dti_bands_name =[' <=10', ' >10-15', ' >15-20', ' >20-25', ' >25', 'Missing']\n",
        "df['dti_band'] = pd.cut(df['total_dti'], dti_band, labels = dti_bands_name)\n",
        "\n",
        "#Generate Bands according to total_inquiry\n",
        "inq_band = [-1, 0, 1, 2, 4, 100, 25000]\n",
        "inq_bands_name =[' <=0', ' >0-1', ' >1-2', ' >2-4', ' >4', 'Missing']  \n",
        "df['inq_band'] = pd.cut(df['total_inq'], inq_band, labels = inq_bands_name)\n",
        "\n",
        "#Generate Band according to Total income\n",
        "inc_bands = [-1, 1, 45000, 60000, 80000, 110000, 1100000000]\n",
        "inc_bands_name =[\"Missing\", \"0-45K\", \">45K-60K\", \">60K-80K\", \">80K-110K\", \">110K\"]\n",
        "df['inc_band'] = pd.cut(df['total_inc'], inc_bands, labels = inc_bands_name)\n",
        "\n",
        "#Create bad indicator\n",
        "#IGP - Including Grace Period\n",
        "#EGP - Excluding Grace Period\n",
        "df['bad_flag_IGP'] = df['loan_status']\n",
        "df['bad_flag_IGP'].replace(to_replace = ['Does not meet the credit policy. Status:Charged Off', 'Charged Off', 'In Grace Period',  'Default', 'Late (16-30 days)', 'Late (31-120 days)', 'Current', 'Fully Paid', 'Does not meet the credit policy. Status:Fully Paid'],\n",
        "                                value = [1, 1, 1, 1, 1, 1, 0, 0, 0],\n",
        "                              inplace = True)\n",
        "\n",
        "df['bad_flag_EGP'] = df['loan_status']\n",
        "df['bad_flag_EGP'].replace(to_replace = ['Does not meet the credit policy. Status:Charged Off', 'Charged Off', 'In Grace Period',  'Default', 'Late (16-30 days)', 'Late (31-120 days)', 'Current', 'Fully Paid', 'Does not meet the credit policy. Status:Fully Paid'],\n",
        "                                value = [1, 1, 0, 1, 1, 1, 0, 0, 0],\n",
        "                              inplace = True)\n",
        "\n",
        "#Create buraeu bad indicator\n",
        "df['hardship_flag_bin'] = df['hardship_flag']\n",
        "df['hardship_flag_bin'].replace(to_replace = ['Y', 'N'],\n",
        "                                value = [1, 0],\n",
        "                              inplace = True)\n",
        "\n",
        "df['delinq_flag'] = df['acc_now_delinq']\n",
        "df['delinq_flag'].replace(to_replace = [0, 1, 2, 3, 4, 5, 6, 7, 8, 9, 10, 11, 12, 13, 14, 15, 16, 17, 18, 19, 20],\n",
        "                                value = [0, 1, 1, 1, 1, 1, 1, 1, 1, 1, 1, 1, 1, 1, 1, 1, 1, 1, 1, 1, 1],\n",
        "                              inplace = True)\n",
        "\n",
        "df['collection_flag'] = df['collections_12_mths_ex_med']\n",
        "df['collection_flag'].replace(to_replace = [0, 1, 2, 3, 4, 5, 6, 7, 8, 9, 10, 11, 12, 13, 14, 15, 16, 17, 18, 19, 20],\n",
        "                                value = [0, 1, 1, 1, 1, 1, 1, 1, 1, 1, 1, 1, 1, 1, 1, 1, 1, 1, 1, 1, 1],\n",
        "                              inplace = True)\n",
        "\n",
        "df['bureau_bad'] = df['hardship_flag_bin'] + df['delinq_flag'] + df['collection_flag']\n",
        "\n",
        "df['bureau_bad'].replace(to_replace = [0, 1, 2, 3],\n",
        "                                value = [0, 1, 1, 1],\n",
        "                              inplace = True)\n",
        "\n",
        "#OA - Over All\n",
        "df['OA_bad_acc_IGP'] = df['hardship_flag_bin'] + df['delinq_flag'] + df['collection_flag'] + df['bad_flag_IGP']\n",
        "\n",
        "df['OA_bad_acc_IGP'].replace(to_replace = [0, 1, 2, 3, 4],\n",
        "                            value = [0, 1, 1, 1, 1],\n",
        "                              inplace = True)\n",
        "\n",
        "#OA - Over All\n",
        "df['OA_bad_acc_EGP'] = df['hardship_flag_bin'] + df['delinq_flag'] + df['collection_flag'] + df['bad_flag_EGP']\n",
        "\n",
        "df['OA_bad_acc_EGP'].replace(to_replace = [0, 1, 2, 3, 4],\n",
        "                            value = [0, 1, 1, 1, 1],\n",
        "                              inplace = True)\n",
        "\n",
        "#Temp column to calculate the total no of accounts in different segment\n",
        "df['total_acc'] = df['hardship_flag']\n",
        "df['total_acc'].replace(to_replace = ['Y', 'N'],\n",
        "                        value = [1, 1],\n",
        "                        inplace = True)\n",
        "\n",
        "df.tail()"
      ],
      "execution_count": null,
      "outputs": [
        {
          "output_type": "stream",
          "text": [
            "Total Rows in DataFrame 2260668\n",
            "Total Rows in DataFrame 2260668\n"
          ],
          "name": "stdout"
        },
        {
          "output_type": "execute_result",
          "data": {
            "text/html": [
              "<div>\n",
              "<style scoped>\n",
              "    .dataframe tbody tr th:only-of-type {\n",
              "        vertical-align: middle;\n",
              "    }\n",
              "\n",
              "    .dataframe tbody tr th {\n",
              "        vertical-align: top;\n",
              "    }\n",
              "\n",
              "    .dataframe thead th {\n",
              "        text-align: right;\n",
              "    }\n",
              "</style>\n",
              "<table border=\"1\" class=\"dataframe\">\n",
              "  <thead>\n",
              "    <tr style=\"text-align: right;\">\n",
              "      <th></th>\n",
              "      <th>annual_inc</th>\n",
              "      <th>loan_amnt</th>\n",
              "      <th>annual_inc_joint</th>\n",
              "      <th>issue_d</th>\n",
              "      <th>out_prncp</th>\n",
              "      <th>grade</th>\n",
              "      <th>loan_status</th>\n",
              "      <th>dti</th>\n",
              "      <th>dti_joint</th>\n",
              "      <th>acc_now_delinq</th>\n",
              "      <th>inq_last_12m</th>\n",
              "      <th>inq_fi</th>\n",
              "      <th>hardship_flag</th>\n",
              "      <th>collections_12_mths_ex_med</th>\n",
              "      <th>total_inc</th>\n",
              "      <th>debt</th>\n",
              "      <th>debt_joint</th>\n",
              "      <th>total_dti</th>\n",
              "      <th>total_inq</th>\n",
              "      <th>dti_band</th>\n",
              "      <th>inq_band</th>\n",
              "      <th>inc_band</th>\n",
              "      <th>bad_flag_IGP</th>\n",
              "      <th>bad_flag_EGP</th>\n",
              "      <th>hardship_flag_bin</th>\n",
              "      <th>delinq_flag</th>\n",
              "      <th>collection_flag</th>\n",
              "      <th>bureau_bad</th>\n",
              "      <th>OA_bad_acc_IGP</th>\n",
              "      <th>OA_bad_acc_EGP</th>\n",
              "      <th>total_acc</th>\n",
              "    </tr>\n",
              "  </thead>\n",
              "  <tbody>\n",
              "    <tr>\n",
              "      <th>2260663</th>\n",
              "      <td>58000.0</td>\n",
              "      <td>12000</td>\n",
              "      <td>0.0</td>\n",
              "      <td>Oct-2017</td>\n",
              "      <td>8687.20</td>\n",
              "      <td>C</td>\n",
              "      <td>Current</td>\n",
              "      <td>20.88</td>\n",
              "      <td>0.00</td>\n",
              "      <td>0.0</td>\n",
              "      <td>1.0</td>\n",
              "      <td>2.0</td>\n",
              "      <td>N</td>\n",
              "      <td>0.0</td>\n",
              "      <td>58000.0</td>\n",
              "      <td>1211040.0</td>\n",
              "      <td>0.0</td>\n",
              "      <td>20.880000</td>\n",
              "      <td>3.0</td>\n",
              "      <td>&gt;20-25</td>\n",
              "      <td>&gt;2-4</td>\n",
              "      <td>&gt;45K-60K</td>\n",
              "      <td>0</td>\n",
              "      <td>0</td>\n",
              "      <td>0</td>\n",
              "      <td>0.0</td>\n",
              "      <td>0.0</td>\n",
              "      <td>0.0</td>\n",
              "      <td>0.0</td>\n",
              "      <td>0.0</td>\n",
              "      <td>1</td>\n",
              "    </tr>\n",
              "    <tr>\n",
              "      <th>2260664</th>\n",
              "      <td>30000.0</td>\n",
              "      <td>12000</td>\n",
              "      <td>135000.0</td>\n",
              "      <td>Oct-2017</td>\n",
              "      <td>0.00</td>\n",
              "      <td>E</td>\n",
              "      <td>Fully Paid</td>\n",
              "      <td>19.28</td>\n",
              "      <td>7.36</td>\n",
              "      <td>0.0</td>\n",
              "      <td>7.0</td>\n",
              "      <td>5.0</td>\n",
              "      <td>N</td>\n",
              "      <td>0.0</td>\n",
              "      <td>165000.0</td>\n",
              "      <td>578400.0</td>\n",
              "      <td>993600.0</td>\n",
              "      <td>9.527273</td>\n",
              "      <td>12.0</td>\n",
              "      <td>&lt;=10</td>\n",
              "      <td>&gt;4</td>\n",
              "      <td>&gt;110K</td>\n",
              "      <td>0</td>\n",
              "      <td>0</td>\n",
              "      <td>0</td>\n",
              "      <td>0.0</td>\n",
              "      <td>0.0</td>\n",
              "      <td>0.0</td>\n",
              "      <td>0.0</td>\n",
              "      <td>0.0</td>\n",
              "      <td>1</td>\n",
              "    </tr>\n",
              "    <tr>\n",
              "      <th>2260665</th>\n",
              "      <td>64000.0</td>\n",
              "      <td>10000</td>\n",
              "      <td>0.0</td>\n",
              "      <td>Oct-2017</td>\n",
              "      <td>5993.27</td>\n",
              "      <td>B</td>\n",
              "      <td>Current</td>\n",
              "      <td>12.96</td>\n",
              "      <td>0.00</td>\n",
              "      <td>0.0</td>\n",
              "      <td>3.0</td>\n",
              "      <td>0.0</td>\n",
              "      <td>N</td>\n",
              "      <td>1.0</td>\n",
              "      <td>64000.0</td>\n",
              "      <td>829440.0</td>\n",
              "      <td>0.0</td>\n",
              "      <td>12.960000</td>\n",
              "      <td>3.0</td>\n",
              "      <td>&gt;10-15</td>\n",
              "      <td>&gt;2-4</td>\n",
              "      <td>&gt;60K-80K</td>\n",
              "      <td>0</td>\n",
              "      <td>0</td>\n",
              "      <td>0</td>\n",
              "      <td>0.0</td>\n",
              "      <td>1.0</td>\n",
              "      <td>1.0</td>\n",
              "      <td>1.0</td>\n",
              "      <td>1.0</td>\n",
              "      <td>1</td>\n",
              "    </tr>\n",
              "    <tr>\n",
              "      <th>2260666</th>\n",
              "      <td>60000.0</td>\n",
              "      <td>12000</td>\n",
              "      <td>0.0</td>\n",
              "      <td>Oct-2017</td>\n",
              "      <td>9924.69</td>\n",
              "      <td>D</td>\n",
              "      <td>Current</td>\n",
              "      <td>30.82</td>\n",
              "      <td>0.00</td>\n",
              "      <td>0.0</td>\n",
              "      <td>4.0</td>\n",
              "      <td>0.0</td>\n",
              "      <td>N</td>\n",
              "      <td>0.0</td>\n",
              "      <td>60000.0</td>\n",
              "      <td>1849200.0</td>\n",
              "      <td>0.0</td>\n",
              "      <td>30.820000</td>\n",
              "      <td>4.0</td>\n",
              "      <td>&gt;25</td>\n",
              "      <td>&gt;2-4</td>\n",
              "      <td>&gt;45K-60K</td>\n",
              "      <td>0</td>\n",
              "      <td>0</td>\n",
              "      <td>0</td>\n",
              "      <td>0.0</td>\n",
              "      <td>0.0</td>\n",
              "      <td>0.0</td>\n",
              "      <td>0.0</td>\n",
              "      <td>0.0</td>\n",
              "      <td>1</td>\n",
              "    </tr>\n",
              "    <tr>\n",
              "      <th>2260667</th>\n",
              "      <td>60000.0</td>\n",
              "      <td>16550</td>\n",
              "      <td>0.0</td>\n",
              "      <td>Oct-2017</td>\n",
              "      <td>13541.01</td>\n",
              "      <td>D</td>\n",
              "      <td>Current</td>\n",
              "      <td>18.40</td>\n",
              "      <td>0.00</td>\n",
              "      <td>0.0</td>\n",
              "      <td>2.0</td>\n",
              "      <td>0.0</td>\n",
              "      <td>N</td>\n",
              "      <td>0.0</td>\n",
              "      <td>60000.0</td>\n",
              "      <td>1104000.0</td>\n",
              "      <td>0.0</td>\n",
              "      <td>18.400000</td>\n",
              "      <td>2.0</td>\n",
              "      <td>&gt;15-20</td>\n",
              "      <td>&gt;1-2</td>\n",
              "      <td>&gt;45K-60K</td>\n",
              "      <td>0</td>\n",
              "      <td>0</td>\n",
              "      <td>0</td>\n",
              "      <td>0.0</td>\n",
              "      <td>0.0</td>\n",
              "      <td>0.0</td>\n",
              "      <td>0.0</td>\n",
              "      <td>0.0</td>\n",
              "      <td>1</td>\n",
              "    </tr>\n",
              "  </tbody>\n",
              "</table>\n",
              "</div>"
            ],
            "text/plain": [
              "         annual_inc  loan_amnt  ...  OA_bad_acc_EGP total_acc\n",
              "2260663     58000.0      12000  ...             0.0         1\n",
              "2260664     30000.0      12000  ...             0.0         1\n",
              "2260665     64000.0      10000  ...             1.0         1\n",
              "2260666     60000.0      12000  ...             0.0         1\n",
              "2260667     60000.0      16550  ...             0.0         1\n",
              "\n",
              "[5 rows x 31 columns]"
            ]
          },
          "metadata": {
            "tags": []
          },
          "execution_count": 9
        }
      ]
    },
    {
      "cell_type": "markdown",
      "metadata": {
        "id": "KkDVb2KUxHOk"
      },
      "source": [
        "**Cartesion Product of different demographics and volume by different KPI (Key point indicators)**"
      ]
    },
    {
      "cell_type": "code",
      "metadata": {
        "id": "TQ2zKvKmzksT"
      },
      "source": [
        "#indicator = 'OA_bad_acc_IGP'\n",
        "#indicator = 'OA_bad_acc_EGP'\n",
        "indicator = 'temp'\n",
        "#indicator = 'loan_status'\n",
        "#indicator = 'bureau_bad'\n",
        "x = df.groupby(\n",
        "   ['dti_band', 'inq_band', 'inc_band', 'grade', indicator]\n",
        ").agg( \n",
        "    {\n",
        "          indicator: \"count\",\n",
        "    }\n",
        ")\n",
        "\n",
        "x = x.unstack()\n",
        "\n",
        "filename = \"temp.csv\"\n",
        "x.to_csv(filename)\n",
        "df1 = pd.read_csv('temp.csv', low_memory=False)\n",
        "\n",
        "df1.tail()"
      ],
      "execution_count": null,
      "outputs": []
    },
    {
      "cell_type": "code",
      "metadata": {
        "id": "13R3yfIjvbeB",
        "colab": {
          "base_uri": "https://localhost:8080/",
          "height": 127
        },
        "outputId": "7bdbeeea-38cc-4bdb-a777-dc920c666b1f"
      },
      "source": [
        "dft = pd.DataFrame()\n",
        "dft= df['annual_inc']\n",
        "dft.head()"
      ],
      "execution_count": null,
      "outputs": [
        {
          "output_type": "execute_result",
          "data": {
            "text/plain": [
              "0    55000.0\n",
              "1    90000.0\n",
              "2    59280.0\n",
              "3    92000.0\n",
              "4    57250.0\n",
              "Name: annual_inc, dtype: float64"
            ]
          },
          "metadata": {
            "tags": []
          },
          "execution_count": 35
        }
      ]
    },
    {
      "cell_type": "code",
      "metadata": {
        "id": "a_M8I-likxTm",
        "colab": {
          "resources": {
            "http://localhost:8080/nbextensions/google.colab/files.js": {
              "data": "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",
              "ok": true,
              "headers": [
                [
                  "content-type",
                  "application/javascript"
                ]
              ],
              "status": 200,
              "status_text": "OK"
            }
          },
          "base_uri": "https://localhost:8080/",
          "height": 75
        },
        "outputId": "96d4cddd-4507-4a9f-d050-f0b6be524cdf"
      },
      "source": [
        "#create upload link\n",
        "uploaded = files.upload()"
      ],
      "execution_count": null,
      "outputs": [
        {
          "output_type": "display_data",
          "data": {
            "text/html": [
              "\n",
              "     <input type=\"file\" id=\"files-19586707-1c64-4328-a1bc-c3108075af28\" name=\"files[]\" multiple disabled\n",
              "        style=\"border:none\" />\n",
              "     <output id=\"result-19586707-1c64-4328-a1bc-c3108075af28\">\n",
              "      Upload widget is only available when the cell has been executed in the\n",
              "      current browser session. Please rerun this cell to enable.\n",
              "      </output>\n",
              "      <script src=\"/nbextensions/google.colab/files.js\"></script> "
            ],
            "text/plain": [
              "<IPython.core.display.HTML object>"
            ]
          },
          "metadata": {
            "tags": []
          }
        },
        {
          "output_type": "stream",
          "text": [
            "Saving Segments.csv to Segments.csv\n"
          ],
          "name": "stdout"
        }
      ]
    },
    {
      "cell_type": "code",
      "metadata": {
        "id": "M8mwcSE5lMw_",
        "colab": {
          "base_uri": "https://localhost:8080/",
          "height": 225
        },
        "outputId": "7790450c-6402-403a-83f7-22dc73fb4493"
      },
      "source": [
        "#Create DataFrame with all data\n",
        "strategy_data = pd.read_csv('Segments.csv')\n",
        "df1 = strategy_data\n",
        "\n",
        "#Finding Total number of rows \n",
        "total_rows = len(df1.axes[0])\n",
        "print('Total Rows in DataFrame',total_rows)\n",
        "df1.head()"
      ],
      "execution_count": null,
      "outputs": [
        {
          "output_type": "stream",
          "text": [
            "Total Rows in DataFrame 1512\n"
          ],
          "name": "stdout"
        },
        {
          "output_type": "execute_result",
          "data": {
            "text/html": [
              "<div>\n",
              "<style scoped>\n",
              "    .dataframe tbody tr th:only-of-type {\n",
              "        vertical-align: middle;\n",
              "    }\n",
              "\n",
              "    .dataframe tbody tr th {\n",
              "        vertical-align: top;\n",
              "    }\n",
              "\n",
              "    .dataframe thead th {\n",
              "        text-align: right;\n",
              "    }\n",
              "</style>\n",
              "<table border=\"1\" class=\"dataframe\">\n",
              "  <thead>\n",
              "    <tr style=\"text-align: right;\">\n",
              "      <th></th>\n",
              "      <th>dti_band</th>\n",
              "      <th>inq_band</th>\n",
              "      <th>inc_band</th>\n",
              "      <th>grade</th>\n",
              "      <th>Total Account</th>\n",
              "      <th>OA_bad_acc_IGP</th>\n",
              "      <th>OA_bad_acc_EGP</th>\n",
              "    </tr>\n",
              "  </thead>\n",
              "  <tbody>\n",
              "    <tr>\n",
              "      <th>0</th>\n",
              "      <td>&lt;=10</td>\n",
              "      <td>&lt;=0</td>\n",
              "      <td>Missing</td>\n",
              "      <td>A</td>\n",
              "      <td>0</td>\n",
              "      <td>0</td>\n",
              "      <td>0</td>\n",
              "    </tr>\n",
              "    <tr>\n",
              "      <th>1</th>\n",
              "      <td>&lt;=10</td>\n",
              "      <td>&lt;=0</td>\n",
              "      <td>Missing</td>\n",
              "      <td>B</td>\n",
              "      <td>0</td>\n",
              "      <td>0</td>\n",
              "      <td>0</td>\n",
              "    </tr>\n",
              "    <tr>\n",
              "      <th>2</th>\n",
              "      <td>&lt;=10</td>\n",
              "      <td>&lt;=0</td>\n",
              "      <td>Missing</td>\n",
              "      <td>C</td>\n",
              "      <td>0</td>\n",
              "      <td>0</td>\n",
              "      <td>0</td>\n",
              "    </tr>\n",
              "    <tr>\n",
              "      <th>3</th>\n",
              "      <td>&lt;=10</td>\n",
              "      <td>&lt;=0</td>\n",
              "      <td>Missing</td>\n",
              "      <td>D</td>\n",
              "      <td>0</td>\n",
              "      <td>0</td>\n",
              "      <td>0</td>\n",
              "    </tr>\n",
              "    <tr>\n",
              "      <th>4</th>\n",
              "      <td>&lt;=10</td>\n",
              "      <td>&lt;=0</td>\n",
              "      <td>Missing</td>\n",
              "      <td>E</td>\n",
              "      <td>0</td>\n",
              "      <td>0</td>\n",
              "      <td>0</td>\n",
              "    </tr>\n",
              "  </tbody>\n",
              "</table>\n",
              "</div>"
            ],
            "text/plain": [
              "  dti_band inq_band inc_band  ... Total Account  OA_bad_acc_IGP  OA_bad_acc_EGP\n",
              "0     <=10      <=0  Missing  ...             0               0               0\n",
              "1     <=10      <=0  Missing  ...             0               0               0\n",
              "2     <=10      <=0  Missing  ...             0               0               0\n",
              "3     <=10      <=0  Missing  ...             0               0               0\n",
              "4     <=10      <=0  Missing  ...             0               0               0\n",
              "\n",
              "[5 rows x 7 columns]"
            ]
          },
          "metadata": {
            "tags": []
          },
          "execution_count": 6
        }
      ]
    },
    {
      "cell_type": "code",
      "metadata": {
        "id": "BJgE91JAQnnf",
        "colab": {
          "base_uri": "https://localhost:8080/",
          "height": 390
        },
        "outputId": "492cd23f-89ca-40a6-f8f8-33d530f3acad"
      },
      "source": [
        "df1['OA_bad_rate_IGP'] = df1['OA_bad_acc_IGP'] / df1['Total Account'] * 100\n",
        "df1['OA_bad_rate_EGP'] = df1['OA_bad_acc_EGP'] / df1['Total Account'] * 100\n",
        "\n",
        "df1['OA_bad_rate_IGP'] = df1['OA_bad_rate_IGP'].replace(np.nan, 0)\n",
        "df1['OA_bad_rate_EGP'] = df1['OA_bad_rate_EGP'].replace(np.nan, 0)\n",
        "\n",
        "total_acc = df1['Total Account'].sum(axis = 0, skipna = True) \n",
        "OA_bad_IGP_acc = df1['OA_bad_acc_IGP'].sum(axis = 0, skipna = True) \n",
        "OA_bad_EGP_acc = df1['OA_bad_acc_EGP'].sum(axis = 0, skipna = True) \n",
        "\n",
        "avg_OA_bad_rate_IGP = OA_bad_IGP_acc / total_acc *100\n",
        "avg_OA_bad_rate_EGP = OA_bad_EGP_acc / total_acc *100\n",
        "print(avg_OA_bad_rate_IGP)\n",
        "print(avg_OA_bad_rate_EGP)\n",
        "\n",
        "#Finding Total number of rows\n",
        "total_rows = len(df1.axes[0])\n",
        "print('Total Segments',total_rows)\n",
        "\n",
        "#Removing Segments with Zero Accounts\n",
        "df1.drop(df1[df1['Total Account'] == 0].index, inplace=True)\n",
        " \n",
        "total_rows = len(df1.axes[0])\n",
        "print('Removed segment with zero acc',total_rows)\n",
        "\n",
        "#Removing Segments which is greater than Over all bad rate\n",
        "df1.drop(df1[df1['OA_bad_rate_EGP'] > avg_OA_bad_rate_EGP].index, inplace=True)\n",
        "\n",
        "total_rows = len(df1.axes[0])\n",
        "print('Removed segment which is more than avg bad rate',total_rows)\n",
        "\n",
        "#Removing segments with Missing Value in DTI and Income\n",
        "df1.drop(df1[df1['dti_band'] == 'Missing'].index, inplace=True)\n",
        "df1.drop(df1[df1['inc_band'] == 'Missing'].index, inplace=True)\n",
        "\n",
        "total_rows = len(df1.axes[0])\n",
        "print('Removed Segments with Missing Values of DTI and Income',total_rows)\n",
        "\n",
        "#Removing Segments with DTI greater than 20\n",
        "df1.drop(df1[df1['dti_band'] == ' >20-25'].index, inplace=True)\n",
        "df1.drop(df1[df1['dti_band'] == ' >25'].index, inplace=True)\n",
        "\n",
        "total_rows = len(df1.axes[0])\n",
        "print('Removed Segments which have DTI greater than 20:',total_rows)\n",
        "\n",
        "#Removing Segments with Inquiry greater than 4\n",
        "df1.drop(df1[df1['inq_band'] == ' >4'].index, inplace=True)\n",
        "\n",
        "total_rows = len(df1.axes[0])\n",
        "print('Removed Segments which have Inquiry Greater than 4:',total_rows)\n",
        "\n",
        "#Removing Segments with Income less than 80K\n",
        "df1.drop(df1[df1['inc_band'] == '0-45K'].index, inplace=True)\n",
        "df1.drop(df1[df1['inc_band'] == '>45K-60K'].index, inplace=True)\n",
        "df1.drop(df1[df1['inc_band'] == '>60K-80K'].index, inplace=True)\n",
        "\n",
        "total_rows = len(df1.axes[0])\n",
        "print('Removed Segments which have Income less than 80K:',total_rows)\n",
        "\n",
        "#Removing Segments with Grade C, D, E, F, G\n",
        "df1.drop(df1[df1['grade'] == 'C'].index, inplace=True)\n",
        "df1.drop(df1[df1['grade'] == 'D'].index, inplace=True)\n",
        "df1.drop(df1[df1['grade'] == 'E'].index, inplace=True)\n",
        "df1.drop(df1[df1['grade'] == 'F'].index, inplace=True)\n",
        "df1.drop(df1[df1['grade'] == 'G'].index, inplace=True)\n",
        "\n",
        "total_rows = len(df1.axes[0])\n",
        "print('Removed Segments which have Grade C, D, E, F, G:',total_rows)\n",
        "\n",
        "#df1 = df1.sort_values(by=['OA_bad_rate_IGP'], ascending=True)\n",
        "filename = \"cut-off.csv\"\n",
        "df1.to_csv(filename)\n",
        "df2 = pd.read_csv('cut-off.csv', low_memory=False)\n",
        "df2.tail()"
      ],
      "execution_count": null,
      "outputs": [
        {
          "output_type": "stream",
          "text": [
            "14.839286440998855\n",
            "14.453471274862121\n",
            "Total Segments 1512\n",
            "Removed segment with zero acc 1200\n",
            "Removed segment which is more than avg bad rate 523\n",
            "Removed Segments with Missing Values of DTI and Income 404\n",
            "Removed Segments which have DTI greater than 20: 246\n",
            "Removed Segments which have Inquiry Greater than 4: 211\n",
            "Removed Segments which have Income less than 80K: 92\n",
            "Removed Segments which have Grade C, D, E, F, G: 60\n"
          ],
          "name": "stdout"
        },
        {
          "output_type": "execute_result",
          "data": {
            "text/html": [
              "<div>\n",
              "<style scoped>\n",
              "    .dataframe tbody tr th:only-of-type {\n",
              "        vertical-align: middle;\n",
              "    }\n",
              "\n",
              "    .dataframe tbody tr th {\n",
              "        vertical-align: top;\n",
              "    }\n",
              "\n",
              "    .dataframe thead th {\n",
              "        text-align: right;\n",
              "    }\n",
              "</style>\n",
              "<table border=\"1\" class=\"dataframe\">\n",
              "  <thead>\n",
              "    <tr style=\"text-align: right;\">\n",
              "      <th></th>\n",
              "      <th>Unnamed: 0</th>\n",
              "      <th>dti_band</th>\n",
              "      <th>inq_band</th>\n",
              "      <th>inc_band</th>\n",
              "      <th>grade</th>\n",
              "      <th>Total Account</th>\n",
              "      <th>OA_bad_acc_IGP</th>\n",
              "      <th>OA_bad_acc_EGP</th>\n",
              "      <th>OA_bad_rate_IGP</th>\n",
              "      <th>OA_bad_rate_EGP</th>\n",
              "    </tr>\n",
              "  </thead>\n",
              "  <tbody>\n",
              "    <tr>\n",
              "      <th>55</th>\n",
              "      <td>666</td>\n",
              "      <td>&gt;15-20</td>\n",
              "      <td>&gt;2-4</td>\n",
              "      <td>&gt;110K</td>\n",
              "      <td>B</td>\n",
              "      <td>4592</td>\n",
              "      <td>365</td>\n",
              "      <td>341</td>\n",
              "      <td>7.948606</td>\n",
              "      <td>7.425958</td>\n",
              "    </tr>\n",
              "    <tr>\n",
              "      <th>56</th>\n",
              "      <td>742</td>\n",
              "      <td>&gt;15-20</td>\n",
              "      <td>Missing</td>\n",
              "      <td>&gt;80K-110K</td>\n",
              "      <td>A</td>\n",
              "      <td>7605</td>\n",
              "      <td>418</td>\n",
              "      <td>418</td>\n",
              "      <td>5.496384</td>\n",
              "      <td>5.496384</td>\n",
              "    </tr>\n",
              "    <tr>\n",
              "      <th>57</th>\n",
              "      <td>743</td>\n",
              "      <td>&gt;15-20</td>\n",
              "      <td>Missing</td>\n",
              "      <td>&gt;80K-110K</td>\n",
              "      <td>B</td>\n",
              "      <td>10723</td>\n",
              "      <td>1303</td>\n",
              "      <td>1297</td>\n",
              "      <td>12.151450</td>\n",
              "      <td>12.095496</td>\n",
              "    </tr>\n",
              "    <tr>\n",
              "      <th>58</th>\n",
              "      <td>749</td>\n",
              "      <td>&gt;15-20</td>\n",
              "      <td>Missing</td>\n",
              "      <td>&gt;110K</td>\n",
              "      <td>A</td>\n",
              "      <td>5869</td>\n",
              "      <td>307</td>\n",
              "      <td>307</td>\n",
              "      <td>5.230874</td>\n",
              "      <td>5.230874</td>\n",
              "    </tr>\n",
              "    <tr>\n",
              "      <th>59</th>\n",
              "      <td>750</td>\n",
              "      <td>&gt;15-20</td>\n",
              "      <td>Missing</td>\n",
              "      <td>&gt;110K</td>\n",
              "      <td>B</td>\n",
              "      <td>7129</td>\n",
              "      <td>821</td>\n",
              "      <td>816</td>\n",
              "      <td>11.516342</td>\n",
              "      <td>11.446206</td>\n",
              "    </tr>\n",
              "  </tbody>\n",
              "</table>\n",
              "</div>"
            ],
            "text/plain": [
              "    Unnamed: 0 dti_band  ... OA_bad_rate_IGP OA_bad_rate_EGP\n",
              "55         666   >15-20  ...        7.948606        7.425958\n",
              "56         742   >15-20  ...        5.496384        5.496384\n",
              "57         743   >15-20  ...       12.151450       12.095496\n",
              "58         749   >15-20  ...        5.230874        5.230874\n",
              "59         750   >15-20  ...       11.516342       11.446206\n",
              "\n",
              "[5 rows x 10 columns]"
            ]
          },
          "metadata": {
            "tags": []
          },
          "execution_count": 8
        }
      ]
    },
    {
      "cell_type": "code",
      "metadata": {
        "id": "JQK55OcPF5Ly"
      },
      "source": [
        "#df1.drop(df1[df1['OA_bad_rate_IGP'] >= 10].index, inplace=True)\n",
        "\n",
        "# lowest5_prcnt_acc = int(5 / 100 * total_rows)\n",
        "# df1.drop(df1.tail(lowest5_prcnt_acc).index,inplace=True)\n",
        "\n",
        "# #Finding Total number of rows after removing the segments greater than avg bad rate\n",
        "# total_rows = len(df1.axes[0])\n",
        "# print('Removed segment last 5%',total_rows) "
      ],
      "execution_count": null,
      "outputs": []
    },
    {
      "cell_type": "code",
      "metadata": {
        "id": "zBmyr2nuL6qI",
        "cellView": "code"
      },
      "source": [
        "values, count = np.unique(df['loan_status'], return_counts=True)\n",
        "\n",
        "dfTemp = pd.DataFrame()\n",
        "dfTemp['Values'] = values\n",
        "dfTemp['Count'] = count\n",
        "\n",
        "dfTemp.head()\n",
        "# filename = \"temp.csv\"\n",
        "# dfTemp.to_csv(filename)\n",
        "# data1 = pd.read_csv('temp.csv', low_memory=False)"
      ],
      "execution_count": null,
      "outputs": []
    }
  ]
}